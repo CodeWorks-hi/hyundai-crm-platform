{
 "cells": [
  {
   "cell_type": "code",
   "execution_count": 29,
   "metadata": {},
   "outputs": [],
   "source": [
    "import pandas as pd\n",
    "import numpy as np\n",
    "import random\n",
    "from itertools import product"
   ]
  },
  {
   "cell_type": "code",
   "execution_count": 30,
   "metadata": {},
   "outputs": [],
   "source": [
    "# 파일 불러오기\n",
    "de_list = pd.read_csv(\"data/hyundae_car_list.csv\")\n",
    "df_inv = pd.read_csv(\"data/inventory_data.csv\")\n",
    "df_trim = pd.read_csv(\"data/model_trim_capacity.csv\")"
   ]
  },
  {
   "cell_type": "code",
   "execution_count": 31,
   "metadata": {},
   "outputs": [
    {
     "data": {
      "text/plain": [
       "array(['아이오닉6', '아이오닉9', '아이오닉5', '스타리아', '펠리세이드', 'G80', 'GV60', 'GV70',\n",
       "       'G70', 'G90', 'GV80', '그랜저', '투싼', '쏘나타', '아반떼', '베뉴', '넥쏘', '캐스퍼',\n",
       "       '코나', '레이', '니로', 'EV3', 'EV4', 'EV6', 'EV9', 'BongoⅢEV', '모닝',\n",
       "       'K5', 'K8', 'K9', '셀토스', '스포티지', '쏘렌토', '타스만', '카니발', 'K-하이리무진',\n",
       "       '포터'], dtype=object)"
      ]
     },
     "execution_count": 31,
     "metadata": {},
     "output_type": "execute_result"
    }
   ],
   "source": [
    "de_list['모델명'].unique()"
   ]
  },
  {
   "cell_type": "code",
   "execution_count": 33,
   "metadata": {},
   "outputs": [
    {
     "data": {
      "text/plain": [
       "array(['인도공장', '싱가포르공장', '울산공장', '인도네시아공장', '아산공장', '브라질공장', '튀르키예공장',\n",
       "       '앨라배마공장', '중국공장', '전주공장', '체코공장'], dtype=object)"
      ]
     },
     "execution_count": 33,
     "metadata": {},
     "output_type": "execute_result"
    }
   ],
   "source": [
    "df_inv['공장명'].unique()"
   ]
  },
  {
   "cell_type": "code",
   "execution_count": 23,
   "metadata": {},
   "outputs": [],
   "source": [
    "# 모델명 일치 여부 확인\n",
    "model_list = de_list['모델명'].unique()\n"
   ]
  },
  {
   "cell_type": "code",
   "execution_count": 24,
   "metadata": {},
   "outputs": [],
   "source": [
    "# 모델명 유지하며 병합하기 위해 모델명 기준 정제\n",
    "# df_trim에서 모델명이 포함된 경우만 추출\n",
    "df_trim_filtered = df_trim[df_trim['모델명'].isin(model_list)]"
   ]
  },
  {
   "cell_type": "code",
   "execution_count": 25,
   "metadata": {},
   "outputs": [],
   "source": [
    "# 병합을 위한 사전 정제\n",
    "# 1. 컬럼명 통일: '모델구분' → '모델 구분' (de_list 기준)\n",
    "de_list = de_list.rename(columns={\"모델구분\": \"모델 구분\"})"
   ]
  },
  {
   "cell_type": "code",
   "execution_count": 26,
   "metadata": {},
   "outputs": [],
   "source": [
    "\n",
    "# 2. de_list와 df_trim_filtered 병합: 모델명 + 트림명 기준\n",
    "merged_base = pd.merge(\n",
    "    df_trim_filtered,\n",
    "    de_list,\n",
    "    how=\"left\",\n",
    "    on=[\"모델명\", \"트림명\"]\n",
    ")\n",
    "\n"
   ]
  },
  {
   "cell_type": "code",
   "execution_count": 27,
   "metadata": {},
   "outputs": [
    {
     "data": {
      "text/plain": [
       "생산공장        0\n",
       "모델명         0\n",
       "모델 구분_x     0\n",
       "트림명         0\n",
       "생산가능수량      0\n",
       "브랜드        52\n",
       "모델 구분_y    52\n",
       "탑승인원       52\n",
       "차량구분       52\n",
       "연료구분       52\n",
       "차량형태       52\n",
       "전장         52\n",
       "전폭         52\n",
       "전고         52\n",
       "배기량        52\n",
       "공차중량       52\n",
       "CO2배출량     52\n",
       "연비         52\n",
       "기본가격       52\n",
       "img_url    52\n",
       "dtype: int64"
      ]
     },
     "execution_count": 27,
     "metadata": {},
     "output_type": "execute_result"
    }
   ],
   "source": [
    "merged_base.isna().sum()"
   ]
  },
  {
   "cell_type": "code",
   "execution_count": 12,
   "metadata": {},
   "outputs": [],
   "source": []
  },
  {
   "cell_type": "code",
   "execution_count": 13,
   "metadata": {},
   "outputs": [],
   "source": [
    "# 2. 필요한 컬럼만 유지\n",
    "de_list = de_list[\n",
    "    ['브랜드', '모델명', '모델 구분', '탑승인원', '트림명', '차량구분', '연료구분',\n",
    "     '차량형태', '전장', '전폭', '전고', '배기량', '공차중량', 'CO2배출량', '연비']\n",
    "]\n"
   ]
  },
  {
   "cell_type": "code",
   "execution_count": null,
   "metadata": {},
   "outputs": [],
   "source": []
  },
  {
   "cell_type": "code",
   "execution_count": 15,
   "metadata": {},
   "outputs": [
    {
     "ename": "NameError",
     "evalue": "name 'df_trim' is not defined",
     "output_type": "error",
     "traceback": [
      "\u001b[0;31m---------------------------------------------------------------------------\u001b[0m",
      "\u001b[0;31mNameError\u001b[0m                                 Traceback (most recent call last)",
      "Cell \u001b[0;32mIn[15], line 3\u001b[0m\n\u001b[1;32m      1\u001b[0m \u001b[38;5;66;03m# 3. capacity에서 모델명, 모델 구분, 트림명 기준으로 de_list 병합\u001b[39;00m\n\u001b[1;32m      2\u001b[0m df_merge \u001b[38;5;241m=\u001b[39m pd\u001b[38;5;241m.\u001b[39mmerge(\n\u001b[0;32m----> 3\u001b[0m     \u001b[43mdf_trim\u001b[49m,\n\u001b[1;32m      4\u001b[0m     de_list,\n\u001b[1;32m      5\u001b[0m     on\u001b[38;5;241m=\u001b[39m[\u001b[38;5;124m'\u001b[39m\u001b[38;5;124m모델명\u001b[39m\u001b[38;5;124m'\u001b[39m, \u001b[38;5;124m'\u001b[39m\u001b[38;5;124m모델 구분\u001b[39m\u001b[38;5;124m'\u001b[39m, \u001b[38;5;124m'\u001b[39m\u001b[38;5;124m트림명\u001b[39m\u001b[38;5;124m'\u001b[39m],\n\u001b[1;32m      6\u001b[0m     how\u001b[38;5;241m=\u001b[39m\u001b[38;5;124m'\u001b[39m\u001b[38;5;124mleft\u001b[39m\u001b[38;5;124m'\u001b[39m\n\u001b[1;32m      7\u001b[0m )\n",
      "\u001b[0;31mNameError\u001b[0m: name 'df_trim' is not defined"
     ]
    }
   ],
   "source": [
    "# 3. capacity에서 모델명, 모델 구분, 트림명 기준으로 de_list 병합\n",
    "df_merge = pd.merge(\n",
    "    df_trim,\n",
    "    de_list,\n",
    "    on=['모델명', '모델 구분', '트림명'],\n",
    "    how='left'\n",
    ")\n"
   ]
  },
  {
   "cell_type": "code",
   "execution_count": 8,
   "metadata": {},
   "outputs": [
    {
     "data": {
      "text/plain": [
       "(['G80', 'GV60', '펠리세이드', '쏘나타', '스타리아', '아반떼', '그랜저', '넥쏘', '아이오닉6', 'G90'],\n",
       " 18)"
      ]
     },
     "execution_count": 8,
     "metadata": {},
     "output_type": "execute_result"
    }
   ],
   "source": [
    "# 공통 모델명 확인용 출력\n",
    "common_models_sample = list(common_models)[:10]\n",
    "num_common_models = len(common_models)\n",
    "\n",
    "common_models_sample, num_common_models"
   ]
  },
  {
   "cell_type": "code",
   "execution_count": null,
   "metadata": {},
   "outputs": [],
   "source": []
  },
  {
   "cell_type": "code",
   "execution_count": null,
   "metadata": {},
   "outputs": [],
   "source": []
  }
 ],
 "metadata": {
  "kernelspec": {
   "display_name": "hi",
   "language": "python",
   "name": "python3"
  },
  "language_info": {
   "codemirror_mode": {
    "name": "ipython",
    "version": 3
   },
   "file_extension": ".py",
   "mimetype": "text/x-python",
   "name": "python",
   "nbconvert_exporter": "python",
   "pygments_lexer": "ipython3",
   "version": "3.10.16"
  }
 },
 "nbformat": 4,
 "nbformat_minor": 2
}
