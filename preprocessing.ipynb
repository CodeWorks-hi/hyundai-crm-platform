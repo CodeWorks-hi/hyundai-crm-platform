{
 "cells": [
  {
   "cell_type": "code",
   "execution_count": 2,
   "metadata": {},
   "outputs": [],
   "source": [
    "import pandas as pd"
   ]
  },
  {
   "cell_type": "code",
   "execution_count": 30,
   "metadata": {},
   "outputs": [
    {
     "data": {
      "application/vnd.microsoft.datawrangler.viewer.v0+json": {
       "columns": [
        {
         "name": "index",
         "rawType": "int64",
         "type": "integer"
        },
        {
         "name": "시도",
         "rawType": "object",
         "type": "string"
        },
        {
         "name": "지역",
         "rawType": "object",
         "type": "string"
        },
        {
         "name": "보조금/승용(만원)",
         "rawType": "object",
         "type": "unknown"
        },
        {
         "name": "보조금/승합(만원)",
         "rawType": "object",
         "type": "unknown"
        }
       ],
       "conversionMethod": "pd.DataFrame",
       "ref": "1bb0baa5-fac4-4d92-984c-71db62e27851",
       "rows": [
        [
         "0",
         "서울",
         "서울특별시",
         "2,950",
         "35,000"
        ],
        [
         "1",
         "부산",
         "부산광역시",
         "3,350",
         "35,000"
        ],
        [
         "2",
         "대구",
         "대구광역시",
         "3,250",
         "35,000"
        ],
        [
         "3",
         "인천",
         "인천광역시",
         "3,250",
         "35,000"
        ],
        [
         "4",
         "광주",
         "광주광역시",
         "3,250",
         "26,000"
        ],
        [
         "5",
         "대전",
         "대전광역시",
         "3,250",
         "31,800"
        ],
        [
         "6",
         "울산",
         "울산광역시",
         "3,400",
         "35,000"
        ],
        [
         "7",
         "세종",
         "세종특별자치시",
         "3,247",
         "26,000"
        ],
        [
         "8",
         "경기",
         "수원시",
         "3,250",
         "26,000"
        ],
        [
         "9",
         "경기",
         "성남시",
         "3,500",
         "35,000"
        ],
        [
         "10",
         "경기",
         "의정부시",
         "3,250",
         "26,000"
        ],
        [
         "11",
         "경기",
         "안양시",
         "3,250",
         "26,000"
        ],
        [
         "12",
         "경기",
         "부천시",
         "3,250",
         "26,000"
        ],
        [
         "13",
         "경기",
         "광명시",
         "3,250",
         "26,000"
        ],
        [
         "14",
         "경기",
         "평택시",
         "3,500",
         "35,000"
        ],
        [
         "15",
         "경기",
         "동두천시",
         null,
         null
        ],
        [
         "16",
         "경기",
         "안산시",
         "3,250",
         "35,000"
        ],
        [
         "17",
         "경기",
         "고양시",
         "3,250",
         "35,000"
        ],
        [
         "18",
         "경기",
         "과천시",
         "3,250",
         "26,000"
        ],
        [
         "19",
         "경기",
         "구리시",
         "3,250",
         "26,000"
        ],
        [
         "20",
         "경기",
         "남양주시",
         "3,250",
         "26,000"
        ],
        [
         "21",
         "경기",
         "오산시",
         "3,250",
         "26,000"
        ],
        [
         "22",
         "경기",
         "시흥시",
         "3,250",
         "26,000"
        ],
        [
         "23",
         "경기",
         "군포시",
         "3,250",
         "26,000"
        ],
        [
         "24",
         "경기",
         "의왕시",
         "3,250",
         "26,000"
        ],
        [
         "25",
         "경기",
         "하남시",
         null,
         null
        ],
        [
         "26",
         "경기",
         "용인시",
         "3,250",
         "35,000"
        ],
        [
         "27",
         "경기",
         "파주시",
         "3,250",
         "35,000"
        ],
        [
         "28",
         "경기",
         "이천시",
         "3,250",
         "35,000"
        ],
        [
         "29",
         "경기",
         "안성시",
         "3,500",
         "35,000"
        ],
        [
         "30",
         "경기",
         "김포시",
         "3,250",
         "35,000"
        ],
        [
         "31",
         "경기",
         "화성시",
         "3,500",
         "26,000"
        ],
        [
         "32",
         "경기",
         "광주시",
         "3,250",
         "26,000"
        ],
        [
         "33",
         "경기",
         "양주시",
         "3,250",
         "35,000"
        ],
        [
         "34",
         "경기",
         "포천시",
         "3,250",
         "26,000"
        ],
        [
         "35",
         "경기",
         "여주시",
         "3,250",
         "26,000"
        ],
        [
         "36",
         "경기",
         "양평군",
         "3,250",
         "26,000"
        ],
        [
         "37",
         "강원",
         "춘천시",
         "3,450",
         "41,000"
        ],
        [
         "38",
         "강원",
         "원주시",
         "3,450",
         "41,000"
        ],
        [
         "39",
         "강원",
         "강릉시",
         "3,450",
         "26,000"
        ],
        [
         "40",
         "강원",
         "동해시",
         "3,450",
         "26,000"
        ],
        [
         "41",
         "강원",
         "속초시",
         "3,450",
         "26,000"
        ],
        [
         "42",
         "강원",
         "삼척시",
         "3,450",
         "41,000"
        ],
        [
         "43",
         "강원",
         "홍천군",
         "3,450",
         "26,000"
        ],
        [
         "44",
         "강원",
         "횡성군",
         "3,450",
         "26,000"
        ],
        [
         "45",
         "강원",
         "평창군",
         "3,450",
         "26,000"
        ],
        [
         "46",
         "강원",
         "철원군",
         "3,450",
         "26,000"
        ],
        [
         "47",
         "강원",
         "화천군",
         "3,450",
         "26,000"
        ],
        [
         "48",
         "강원",
         "양구군",
         "3,450",
         "26,000"
        ],
        [
         "49",
         "강원",
         "고성군",
         null,
         null
        ]
       ],
       "shape": {
        "columns": 4,
        "rows": 115
       }
      },
      "text/html": [
       "<div>\n",
       "<style scoped>\n",
       "    .dataframe tbody tr th:only-of-type {\n",
       "        vertical-align: middle;\n",
       "    }\n",
       "\n",
       "    .dataframe tbody tr th {\n",
       "        vertical-align: top;\n",
       "    }\n",
       "\n",
       "    .dataframe thead th {\n",
       "        text-align: right;\n",
       "    }\n",
       "</style>\n",
       "<table border=\"1\" class=\"dataframe\">\n",
       "  <thead>\n",
       "    <tr style=\"text-align: right;\">\n",
       "      <th></th>\n",
       "      <th>시도</th>\n",
       "      <th>지역</th>\n",
       "      <th>보조금/승용(만원)</th>\n",
       "      <th>보조금/승합(만원)</th>\n",
       "    </tr>\n",
       "  </thead>\n",
       "  <tbody>\n",
       "    <tr>\n",
       "      <th>0</th>\n",
       "      <td>서울</td>\n",
       "      <td>서울특별시</td>\n",
       "      <td>2,950</td>\n",
       "      <td>35,000</td>\n",
       "    </tr>\n",
       "    <tr>\n",
       "      <th>1</th>\n",
       "      <td>부산</td>\n",
       "      <td>부산광역시</td>\n",
       "      <td>3,350</td>\n",
       "      <td>35,000</td>\n",
       "    </tr>\n",
       "    <tr>\n",
       "      <th>2</th>\n",
       "      <td>대구</td>\n",
       "      <td>대구광역시</td>\n",
       "      <td>3,250</td>\n",
       "      <td>35,000</td>\n",
       "    </tr>\n",
       "    <tr>\n",
       "      <th>3</th>\n",
       "      <td>인천</td>\n",
       "      <td>인천광역시</td>\n",
       "      <td>3,250</td>\n",
       "      <td>35,000</td>\n",
       "    </tr>\n",
       "    <tr>\n",
       "      <th>4</th>\n",
       "      <td>광주</td>\n",
       "      <td>광주광역시</td>\n",
       "      <td>3,250</td>\n",
       "      <td>26,000</td>\n",
       "    </tr>\n",
       "    <tr>\n",
       "      <th>...</th>\n",
       "      <td>...</td>\n",
       "      <td>...</td>\n",
       "      <td>...</td>\n",
       "      <td>...</td>\n",
       "    </tr>\n",
       "    <tr>\n",
       "      <th>110</th>\n",
       "      <td>경남</td>\n",
       "      <td>밀양시</td>\n",
       "      <td>3,310</td>\n",
       "      <td>35,000</td>\n",
       "    </tr>\n",
       "    <tr>\n",
       "      <th>111</th>\n",
       "      <td>경남</td>\n",
       "      <td>거제시</td>\n",
       "      <td>3,310</td>\n",
       "      <td>26,000</td>\n",
       "    </tr>\n",
       "    <tr>\n",
       "      <th>112</th>\n",
       "      <td>경남</td>\n",
       "      <td>양산시</td>\n",
       "      <td>3,310</td>\n",
       "      <td>26,000</td>\n",
       "    </tr>\n",
       "    <tr>\n",
       "      <th>113</th>\n",
       "      <td>경남</td>\n",
       "      <td>남해군</td>\n",
       "      <td>3,500</td>\n",
       "      <td>34,300</td>\n",
       "    </tr>\n",
       "    <tr>\n",
       "      <th>114</th>\n",
       "      <td>제주</td>\n",
       "      <td>제주특별자치도</td>\n",
       "      <td>2,250</td>\n",
       "      <td>35,000</td>\n",
       "    </tr>\n",
       "  </tbody>\n",
       "</table>\n",
       "<p>115 rows × 4 columns</p>\n",
       "</div>"
      ],
      "text/plain": [
       "     시도       지역 보조금/승용(만원) 보조금/승합(만원)\n",
       "0    서울    서울특별시      2,950     35,000\n",
       "1    부산    부산광역시      3,350     35,000\n",
       "2    대구    대구광역시      3,250     35,000\n",
       "3    인천    인천광역시      3,250     35,000\n",
       "4    광주    광주광역시      3,250     26,000\n",
       "..   ..      ...        ...        ...\n",
       "110  경남      밀양시      3,310     35,000\n",
       "111  경남      거제시      3,310     26,000\n",
       "112  경남      양산시      3,310     26,000\n",
       "113  경남      남해군      3,500     34,300\n",
       "114  제주  제주특별자치도      2,250     35,000\n",
       "\n",
       "[115 rows x 4 columns]"
      ]
     },
     "execution_count": 30,
     "metadata": {},
     "output_type": "execute_result"
    }
   ],
   "source": [
    "df = pd.read_csv(\"data/processed/보조금/hydro-car.csv\")\n",
    "df"
   ]
  },
  {
   "cell_type": "code",
   "execution_count": 32,
   "metadata": {},
   "outputs": [],
   "source": [
    "df.replace(\",\", \"\", regex=True, inplace=True)\n",
    "df.fillna(0, inplace=True)\n",
    "df[\"보조금/승용(만원)\"] = df[\"보조금/승용(만원)\"].astype(int)\n",
    "df[\"보조금/승합(만원)\"] = df[\"보조금/승합(만원)\"].astype(int)"
   ]
  },
  {
   "cell_type": "code",
   "execution_count": 33,
   "metadata": {},
   "outputs": [
    {
     "data": {
      "text/plain": [
       "시도            0\n",
       "지역            0\n",
       "보조금/승용(만원)    0\n",
       "보조금/승합(만원)    0\n",
       "dtype: int64"
      ]
     },
     "execution_count": 33,
     "metadata": {},
     "output_type": "execute_result"
    }
   ],
   "source": [
    "df.isna().sum()"
   ]
  },
  {
   "cell_type": "code",
   "execution_count": 34,
   "metadata": {},
   "outputs": [
    {
     "data": {
      "text/plain": [
       "시도            object\n",
       "지역            object\n",
       "보조금/승용(만원)     int64\n",
       "보조금/승합(만원)     int64\n",
       "dtype: object"
      ]
     },
     "execution_count": 34,
     "metadata": {},
     "output_type": "execute_result"
    }
   ],
   "source": [
    "df.dtypes"
   ]
  },
  {
   "cell_type": "code",
   "execution_count": 35,
   "metadata": {},
   "outputs": [],
   "source": [
    "df.to_csv(\"data/processed/보조금/hydro-car.csv\", index=False)"
   ]
  },
  {
   "cell_type": "code",
   "execution_count": null,
   "metadata": {},
   "outputs": [],
   "source": []
  }
 ],
 "metadata": {
  "kernelspec": {
   "display_name": "hi",
   "language": "python",
   "name": "python3"
  },
  "language_info": {
   "codemirror_mode": {
    "name": "ipython",
    "version": 3
   },
   "file_extension": ".py",
   "mimetype": "text/x-python",
   "name": "python",
   "nbconvert_exporter": "python",
   "pygments_lexer": "ipython3",
   "version": "3.10.16"
  }
 },
 "nbformat": 4,
 "nbformat_minor": 2
}
