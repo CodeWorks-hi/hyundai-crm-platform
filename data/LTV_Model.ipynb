
{
 "cells": [
  {
   "cell_type": "markdown",
   "metadata": {},
   "source": [
    "# LTV 예측 모델 비교 실험 노트북\n",
    "XGBoost, LightGBM, CatBoost를 이용한 고객 생애 가치 예측 비교"
   ]
  },
  {
   "cell_type": "code",
   "execution_count": null,
   "metadata": {},
   "outputs": [],
   "source": [
    "!pip install xgboost lightgbm catboost shap optuna"
   ]
  },
  {
   "cell_type": "code",
   "execution_count": null,
   "metadata": {},
   "outputs": [],
   "source": [
    "import pandas as pd\n",
    "import numpy as np\n",
    "from sklearn.model_selection import train_test_split\n",
    "from sklearn.metrics import mean_squared_error, mean_absolute_error\n",
    "from xgboost import XGBRegressor\n",
    "from lightgbm import LGBMRegressor\n",
    "from catboost import CatBoostRegressor\n",
    "import shap\n",
    "import matplotlib.pyplot as plt"
   ]
  },
  {
   "cell_type": "markdown",
   "metadata": {},
   "source": [
    "## 데이터 로딩 및 전처리"
   ]
  },
  {
   "cell_type": "code",
   "execution_count": null,
   "metadata": {},
   "outputs": [],
   "source": [
    "df = pd.read_csv("customer_data.csv")\n",
    "df = df.dropna()\n",
    "categorical_cols = ['성별', '연령대', '거주 지역', '고객 등급', '차량 유형', '구매 경로', '할부 여부']\n",
    "df_encoded = pd.get_dummies(df, columns=categorical_cols)\n",
    "X = df_encoded.drop(columns=['고객ID', 'LTV'])\n",
    "y = df_encoded['LTV']\n",
    "X_train, X_test, y_train, y_test = train_test_split(X, y, test_size=0.2, random_state=42)"
   ]
  },
  {
   "cell_type": "markdown",
   "metadata": {},
   "source": [
    "## 모델 학습 및 예측"
   ]
  },
  {
   "cell_type": "code",
   "execution_count": null,
   "metadata": {},
   "outputs": [],
   "source": [
    "# XGBoost\n",
    "xgb = XGBRegressor(n_estimators=100, max_depth=4, random_state=42)\n",
    "xgb.fit(X_train, y_train)\n",
    "pred_xgb = xgb.predict(X_test)\n",
    "\n",
    "# LightGBM\n",
    "lgb = LGBMRegressor(n_estimators=100, max_depth=4, random_state=42)\n",
    "lgb.fit(X_train, y_train)\n",
    "pred_lgb = lgb.predict(X_test)\n",
    "\n",
    "# CatBoost\n",
    "cat = CatBoostRegressor(iterations=100, depth=4, verbose=0, random_state=42)\n",
    "cat.fit(X_train, y_train)\n",
    "pred_cat = cat.predict(X_test)"
   ]
  },
  {
   "cell_type": "markdown",
   "metadata": {},
   "source": [
    "## 성능 비교"
   ]
  },
  {
   "cell_type": "code",
   "execution_count": null,
   "metadata": {},
   "outputs": [],
   "source": [
    "def evaluate(y_true, y_pred, name):\n",
    "    rmse = mean_squared_error(y_true, y_pred, squared=False)\n",
    "    mae = mean_absolute_error(y_true, y_pred)\n",
    "    print(f"{name} - RMSE: {rmse:.2f}, MAE: {mae:.2f}")\n",
    "    return rmse, mae\n",
    "\n",
    "results = {}\n",
    "results['XGBoost'] = evaluate(y_test, pred_xgb, 'XGBoost')\n",
    "results['LightGBM'] = evaluate(y_test, pred_lgb, 'LightGBM')\n",
    "results['CatBoost'] = evaluate(y_test, pred_cat, 'CatBoost')\n",
    "\n",
    "pd.DataFrame(results, index=['RMSE', 'MAE']).T"
   ]
  },
  {
   "cell_type": "markdown",
   "metadata": {},
   "source": [
    "## SHAP 중요 변수 해석"
   ]
  },
  {
   "cell_type": "code",
   "execution_count": null,
   "metadata": {},
   "outputs": [],
   "source": [
    "explainer = shap.Explainer(xgb)\n",
    "shap_values = explainer(X_test)\n",
    "shap.summary_plot(shap_values, X_test)"
   ]
  }
 ],
 "metadata": {
  "kernelspec": {
   "display_name": "Python 3",
   "language": "python",
   "name": "python3"
  },
  "language_info": {
   "name": "python"
  }
 },
 "nbformat": 4,
 "nbformat_minor": 5
}
