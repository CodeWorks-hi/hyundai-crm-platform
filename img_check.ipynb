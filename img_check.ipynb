{
 "cells": [
  {
   "cell_type": "code",
   "execution_count": 2,
   "metadata": {},
   "outputs": [
    {
     "name": "stdout",
     "output_type": "stream",
     "text": [
      "✅ 이 이미지는 투명 배경을 포함한 PNG입니다.\n"
     ]
    }
   ],
   "source": [
    "from PIL import Image\n",
    "import requests\n",
    "from io import BytesIO\n",
    "\n",
    "url = \"https://www.genesis.com/content/dam/genesis-p2/kr/admin/model-information/G80%20Black/list-thumbnail/2025-01-06/16-00-12/genesis-kr-admin-model-list-thumbnail-g80-black-25my-pc-630x240-ko.png\"\n",
    "response = requests.get(url)\n",
    "img = Image.open(BytesIO(response.content))\n",
    "\n",
    "if img.mode in (\"RGBA\", \"LA\") and img.getchannel(\"A\").getextrema()[0] < 255:\n",
    "    print(\"✅ 이 이미지는 투명 배경을 포함한 PNG입니다.\")\n",
    "else:\n",
    "    print(\"❌ 이 이미지는 투명 배경이 아닙니다.\")\n"
   ]
  },
  {
   "cell_type": "code",
   "execution_count": null,
   "metadata": {},
   "outputs": [],
   "source": []
  }
 ],
 "metadata": {
  "kernelspec": {
   "display_name": "Python (hi)",
   "language": "python",
   "name": "hi"
  },
  "language_info": {
   "codemirror_mode": {
    "name": "ipython",
    "version": 3
   },
   "file_extension": ".py",
   "mimetype": "text/x-python",
   "name": "python",
   "nbconvert_exporter": "python",
   "pygments_lexer": "ipython3",
   "version": "3.10.16"
  }
 },
 "nbformat": 4,
 "nbformat_minor": 2
}
